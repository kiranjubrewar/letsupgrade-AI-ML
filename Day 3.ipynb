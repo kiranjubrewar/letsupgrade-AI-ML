{
 "cells": [
  {
   "cell_type": "code",
   "execution_count": 2,
   "metadata": {},
   "outputs": [
    {
     "name": "stdout",
     "output_type": "stream",
     "text": [
      "(-3+0j)\n"
     ]
    }
   ],
   "source": [
    "#1.write a program to substract two complex number in pythone\n",
    "a=1+5j\n",
    "b=4+5j\n",
    "print(a-b)"
   ]
  },
  {
   "cell_type": "code",
   "execution_count": 5,
   "metadata": {},
   "outputs": [
    {
     "name": "stdout",
     "output_type": "stream",
     "text": [
      "enter a number : 2\n",
      "the foruth root of a number is  16\n"
     ]
    }
   ],
   "source": [
    "#2.write a program to find fourt root of a number \n",
    "num = int(input(\"enter a number : \"))\n",
    "result = num**4\n",
    "print(\"the foruth root of a number is \",result)"
   ]
  },
  {
   "cell_type": "code",
   "execution_count": 36,
   "metadata": {},
   "outputs": [
    {
     "name": "stdout",
     "output_type": "stream",
     "text": [
      "using temporary variable c\n",
      "******************************\n",
      "before swap :a = 3 b = 6\n",
      "after swap :a = 6 b = 3\n"
     ]
    }
   ],
   "source": [
    "#3. write a profgram to swap a two number in python with the help of temporary varible\n",
    "print(\"using temporary variable c\")\n",
    "print(\"******************************\")\n",
    "a = 3\n",
    "b = 6\n",
    "print(\"before swap :a =\",a,\"b =\",b)\n",
    "c = a  #using temporary variable c\n",
    "a = b\n",
    "b = c\n",
    "print(\"after swap :a =\",a,\"b =\",b)"
   ]
  },
  {
   "cell_type": "code",
   "execution_count": 37,
   "metadata": {},
   "outputs": [
    {
     "name": "stdout",
     "output_type": "stream",
     "text": [
      "without any variable\n",
      "*******************************\n",
      "before swap :num1 = 1 num2 = 2\n",
      "after swap :num1 = 2 num2 = 1\n"
     ]
    }
   ],
   "source": [
    "#4. write a profgram to swap a two number in python with the help of temporary varible\n",
    "print(\"without any variable\")\n",
    "print(\"*******************************\")\n",
    "\n",
    "\n",
    "num1 = 1\n",
    "num2 = 2\n",
    "print(\"before swap :num1 =\",num1,\"num2 =\",num2)\n",
    "num1 , num2 = num2 , num1\n",
    "\n",
    "print(\"after swap :num1 =\",num1,\"num2 =\",num2)"
   ]
  },
  {
   "cell_type": "code",
   "execution_count": 42,
   "metadata": {},
   "outputs": [
    {
     "name": "stdout",
     "output_type": "stream",
     "text": [
      "enter in fahrenheit : 100\n",
      "kelvin =  311.27777777777777\n",
      "celsius =  37.77777777777778\n"
     ]
    }
   ],
   "source": [
    "#5.wrote a program to convert fahrenheit to kelvin and celsius both\n",
    "F = int(input(\"enter in fahrenheit : \"))\n",
    "K = 273.5 + ((F-32.0)*(5.0/9))\n",
    "print(\"kelvin = \",K)\n",
    "C = (F-32)* 5/9\n",
    "print(\"celsius = \",C)"
   ]
  },
  {
   "cell_type": "code",
   "execution_count": 60,
   "metadata": {},
   "outputs": [
    {
     "name": "stdout",
     "output_type": "stream",
     "text": [
      "<class 'int'>\n",
      "<class 'float'>\n",
      "<class 'int'>\n",
      "<class 'str'>\n",
      "<class 'list'>\n",
      "<class 'tuple'>\n",
      "<class 'dict'>\n"
     ]
    }
   ],
   "source": [
    "#6. write a progra to demonstrate all the avaliable data type in python \n",
    "num = 100\n",
    "num2 = 40.5\n",
    "string = \"hello\"\n",
    "A = [1,2,3]\n",
    "B = (1,2,3)\n",
    "C = {'firstname':'tom','lastname':'tin'}\n",
    "print(type(num))\n",
    "print(type(num2))\n",
    "print(type(num3))\n",
    "print(type(string))\n",
    "print(type(A))\n",
    "print(type(B))\n",
    "print(type(C))\n"
   ]
  },
  {
   "cell_type": "code",
   "execution_count": null,
   "metadata": {},
   "outputs": [],
   "source": []
  }
 ],
 "metadata": {
  "kernelspec": {
   "display_name": "Python 3",
   "language": "python",
   "name": "python3"
  },
  "language_info": {
   "codemirror_mode": {
    "name": "ipython",
    "version": 3
   },
   "file_extension": ".py",
   "mimetype": "text/x-python",
   "name": "python",
   "nbconvert_exporter": "python",
   "pygments_lexer": "ipython3",
   "version": "3.7.4"
  }
 },
 "nbformat": 4,
 "nbformat_minor": 2
}
