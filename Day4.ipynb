{
 "cells": [
  {
   "cell_type": "code",
   "execution_count": 1,
   "metadata": {},
   "outputs": [
    {
     "name": "stdout",
     "output_type": "stream",
     "text": [
      "(3+10j)\n",
      "(1+2j)\n",
      "(1.5294117647058822-0.11764705882352941j)\n",
      "(1.5294117647058822-0.11764705882352941j)\n",
      "(-22+14j)\n"
     ]
    }
   ],
   "source": [
    "#1.Research on whether addition, substraction, multiplication, division, floor division, \n",
    "# and modulo operations be peformed on complex numbers. Based on your study, implement \n",
    "# a python program to demonstrate these operation \n",
    "A = 2+6j\n",
    "B = 1+4j\n",
    "print(A+B)\n",
    "print(A-B)\n",
    "print(A/B)\n",
    "print(A / B)\n",
    "# print(A%B) # it make a error \n",
    "# print(A // B) it also make error\n",
    "print(A*B)"
   ]
  },
  {
   "cell_type": "markdown",
   "metadata": {},
   "source": [
    "the range() function returns a sequence of numbers, staring from 0 by default, and increments by 1 (by default), and stops before a specified number\n",
    "\n",
    "range(start, stop, step)"
   ]
  },
  {
   "cell_type": "code",
   "execution_count": 2,
   "metadata": {},
   "outputs": [
    {
     "name": "stdout",
     "output_type": "stream",
     "text": [
      "0\n",
      "1\n",
      "2\n",
      "3\n",
      "4\n",
      "5\n",
      "6\n",
      "7\n",
      "8\n",
      "9\n",
      "range(0, 10)\n"
     ]
    }
   ],
   "source": [
    "# 2. Research on range() functions and its parameters. create a markdown cell and write in your own words \n",
    "# (no  copy-paste from google please) what you understand about it. implement a small program of your choice on the same\n",
    "A = range(10)\n",
    "for i in A:\n",
    "    print(i)\n",
    "print(A)\n"
   ]
  },
  {
   "cell_type": "code",
   "execution_count": 3,
   "metadata": {},
   "outputs": [
    {
     "name": "stdout",
     "output_type": "stream",
     "text": [
      "enter a num130\n",
      "enter a num23\n",
      "90\n"
     ]
    }
   ],
   "source": [
    "num1 = int(input(\"enter a num1\"))\n",
    "num2 = int(input(\"enter a num2\"))\n",
    "sub = num1 - num2\n",
    "if (sub > 25):\n",
    "    print(num1 * num2)\n",
    "else:\n",
    "    print(num1/num2)\n",
    "    "
   ]
  },
  {
   "cell_type": "code",
   "execution_count": 4,
   "metadata": {},
   "outputs": [
    {
     "name": "stdout",
     "output_type": "stream",
     "text": [
      "2\n",
      "14\n",
      "34\n",
      "62\n",
      "98\n"
     ]
    }
   ],
   "source": [
    "# 4. consider a 10 interger in a list and if the nunm in list division by 2  print result as square of the number minus 2\n",
    "list1 = [1,2,3,4,5,6,7,8,9,10]\n",
    "for i in list1:\n",
    "    if i%2==0:\n",
    "       # print(\"square of the number minus 2\")\n",
    "        print(i**2 - 2)"
   ]
  },
  {
   "cell_type": "code",
   "execution_count": 5,
   "metadata": {},
   "outputs": [
    {
     "name": "stdout",
     "output_type": "stream",
     "text": [
      "2\n",
      "4\n",
      "6\n",
      "8\n",
      "10\n"
     ]
    }
   ],
   "source": [
    "#5.consider a 10 interger in a list and print  if the nunm in list  greaterthan 7 when that divised by 2\n",
    "list2 = [1,2,3,4,5,6,7,8,9,10]\n",
    "for i in list2:\n",
    "    if(i >7 & i%2==0):\n",
    "        print(i)"
   ]
  },
  {
   "cell_type": "code",
   "execution_count": null,
   "metadata": {},
   "outputs": [],
   "source": []
  },
  {
   "cell_type": "code",
   "execution_count": null,
   "metadata": {},
   "outputs": [],
   "source": []
  }
 ],
 "metadata": {
  "kernelspec": {
   "display_name": "Python 3",
   "language": "python",
   "name": "python3"
  },
  "language_info": {
   "codemirror_mode": {
    "name": "ipython",
    "version": 3
   },
   "file_extension": ".py",
   "mimetype": "text/x-python",
   "name": "python",
   "nbconvert_exporter": "python",
   "pygments_lexer": "ipython3",
   "version": "3.7.4"
  }
 },
 "nbformat": 4,
 "nbformat_minor": 2
}
