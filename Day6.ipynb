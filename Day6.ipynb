{
 "cells": [
  {
   "cell_type": "code",
   "execution_count": 8,
   "metadata": {},
   "outputs": [
    {
     "name": "stdout",
     "output_type": "stream",
     "text": [
      "kiran@goggle.com\n",
      "5\n",
      "12\n",
      "company name is: goggle.\n"
     ]
    }
   ],
   "source": [
    "# 1.input: first name of the email contain username and secong company name in emailid  ex :user@sii.com\n",
    "# output:compsny name: sii\n",
    "\n",
    "e = input()\n",
    "a = e.index(\"@\")\n",
    "b = e.index(\".\")\n",
    "print(a)\n",
    "print(b)\n",
    "print(\"company name is:\",e[a+1:b+1])\n",
    "    "
   ]
  },
  {
   "cell_type": "code",
   "execution_count": 28,
   "metadata": {},
   "outputs": [
    {
     "name": "stdout",
     "output_type": "stream",
     "text": [
      "ball,bla,a\n",
      "['a', 'ball', 'bla']\n"
     ]
    }
   ],
   "source": [
    "#2. input: ball,and,car\n",
    "# output: and ,ball,car\n",
    "a = input()\n",
    "b = a.split(\",\")\n",
    "c = sorted(b)\n",
    "\n",
    "print(c)\n"
   ]
  },
  {
   "cell_type": "markdown",
   "metadata": {},
   "source": [
    "# set"
   ]
  },
  {
   "cell_type": "markdown",
   "metadata": {},
   "source": [
    "#### it is collection of unorder and unindexed. and writen in curly brackets"
   ]
  },
  {
   "cell_type": "code",
   "execution_count": 46,
   "metadata": {},
   "outputs": [
    {
     "name": "stdout",
     "output_type": "stream",
     "text": [
      "{2, 3, 'me', 'times', 'say', 'hello'}\n",
      "banana\n",
      "cherry\n",
      "apple\n",
      "{'banana', 'cherry', 'orange', 'apple'}\n",
      "4\n",
      "{'banana', 'cherry', 'orange'}\n",
      "{'cherry', 'orange'}\n",
      "set()\n"
     ]
    }
   ],
   "source": [
    "# 3. set\n",
    "sets={'say','hello',2,'me',3,'times'}\n",
    "print(sets)\n",
    "\n",
    "var={'apple','banana','cherry'}\n",
    "for i in var:\n",
    "    print(i)\n",
    "var.add(\"orange\")\n",
    "print(var)\n",
    "print(len(var))\n",
    "a = var.remove(\"apple\")\n",
    "print(var)\n",
    "var.discard(\"banana\")\n",
    "print(var)\n",
    "var.clear()\n",
    "print(var)"
   ]
  },
  {
   "cell_type": "code",
   "execution_count": 31,
   "metadata": {},
   "outputs": [
    {
     "name": "stdout",
     "output_type": "stream",
     "text": [
      "[3, 7]\n"
     ]
    }
   ],
   "source": [
    "# 4.input : 1 2 4 5\n",
    "# output: 3 find missing letter in between 0 ,n-1\n",
    "def find_missing_num(lst):\n",
    "    return [x for x in range(lst[0], lst[-1]+1) if x not in lst]\n",
    "\n",
    "lst = [1,2,4,5,6,8,9]\n",
    "print(find_missing_num(lst))\n"
   ]
  },
  {
   "cell_type": "code",
   "execution_count": 36,
   "metadata": {},
   "outputs": [
    {
     "name": "stdout",
     "output_type": "stream",
     "text": [
      "[1, 2, 3, 4, 6]\n"
     ]
    }
   ],
   "source": [
    "# 5 remove dulicate num \n",
    "def removedup(dup):\n",
    "    result = []\n",
    "    for num in dup:\n",
    "        if num not in result:\n",
    "            result.append(num)\n",
    "    return result\n",
    "dup = [1,2,3,4,4,3,6,3]\n",
    "print(removedup(dup))"
   ]
  },
  {
   "cell_type": "code",
   "execution_count": null,
   "metadata": {},
   "outputs": [],
   "source": []
  }
 ],
 "metadata": {
  "kernelspec": {
   "display_name": "Python 3",
   "language": "python",
   "name": "python3"
  },
  "language_info": {
   "codemirror_mode": {
    "name": "ipython",
    "version": 3
   },
   "file_extension": ".py",
   "mimetype": "text/x-python",
   "name": "python",
   "nbconvert_exporter": "python",
   "pygments_lexer": "ipython3",
   "version": "3.7.4"
  }
 },
 "nbformat": 4,
 "nbformat_minor": 2
}
