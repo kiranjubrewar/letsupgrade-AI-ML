{
 "cells": [
  {
   "cell_type": "code",
   "execution_count": 32,
   "metadata": {},
   "outputs": [
    {
     "name": "stdout",
     "output_type": "stream",
     "text": [
      "20\n"
     ]
    }
   ],
   "source": [
    "# 1. write a program to find the first 20 non-even prime natural numbers\n",
    "for i in range(0,21):\n",
    "    if i%2!=0:\n",
    "        for num in range(2,21) : \n",
    "            if num > 1 :\n",
    "                for j in range(2,21):\n",
    "                    if (num%j) == 0:\n",
    "                        break\n",
    "                    \n",
    "                else:\n",
    "                    print(num)  \n",
    "else:\n",
    "    print(i)\n",
    "                    \n",
    "     "
   ]
  },
  {
   "cell_type": "code",
   "execution_count": 67,
   "metadata": {},
   "outputs": [
    {
     "name": "stdout",
     "output_type": "stream",
     "text": [
      "  hello world  \n",
      "    hello world     \n",
      "1\n",
      "b'  hello world  '\n",
      "-1\n",
      "8\n",
      "False\n",
      "True\n",
      "hello world  \n",
      "  hello hyee  \n",
      "8\n",
      "       hello world  \n",
      "['hello', 'world']\n",
      "  HELLO WORLD  \n",
      "0000000050\n",
      "False\n"
     ]
    }
   ],
   "source": [
    "# 2. write a program to implement 15 function in string\n",
    "txt = \"  hello world  \"\n",
    "x = txt.capitalize()\n",
    "x1 = txt.center(20)\n",
    "x2 = txt.count(\"h\")\n",
    "x3  = txt.encode()\n",
    "x4  = txt.find(\"word\")\n",
    "x5  = txt.index(\"w\")\n",
    "x6  = txt.isalnum()\n",
    "x7  = txt.islower()\n",
    "x8  = txt.lstrip()\n",
    "x9  = txt.replace(\"world\",\"hyee\")\n",
    "x10  = txt.rfind(\"world\")\n",
    "x11  = txt.rjust(20)\n",
    "x12  = txt.split()\n",
    "x13  = txt.upper()\n",
    "txt1 = \"50\"\n",
    "x14  = txt1.zfill(10)\n",
    "x15  = txt.isdigit()\n",
    "print(x)\n",
    "print(x1)\n",
    "print(x2)\n",
    "print(x3)\n",
    "print(x4)\n",
    "print(x5)\n",
    "print(x6)\n",
    "print(x7)\n",
    "print(x8)\n",
    "print(x9)\n",
    "print(x10)\n",
    "print(x11)\n",
    "print(x12)\n",
    "print(x13)\n",
    "print(x14)\n",
    "print(x15)\n"
   ]
  },
  {
   "cell_type": "code",
   "execution_count": 70,
   "metadata": {},
   "outputs": [
    {
     "name": "stdout",
     "output_type": "stream",
     "text": [
      "enter stringsk\n",
      "string is not palindrome\n",
      "_______________________________________\n",
      "enter stringabc\n",
      "enter stringbca\n",
      "string is a anagram\n"
     ]
    }
   ],
   "source": [
    "# 3. write a program to string is palindorme or anagram or none\n",
    "s = input(\"enter string\")\n",
    "if s == s[::-1]:\n",
    "    print(\"string is palindrome\")\n",
    "else:\n",
    "    print(\"string is not palindrome\")\n",
    "\n",
    "    \n",
    "print(\"_______________________________________\")    \n",
    "from collections import Counter\n",
    "s2 = input(\"enter string\")\n",
    "s3 = input(\"enter string\")\n",
    "if Counter(s2) == Counter(s3):\n",
    "    print(\"string is a anagram\")\n",
    " \n",
    "   \n",
    "    "
   ]
  },
  {
   "cell_type": "code",
   "execution_count": 86,
   "metadata": {},
   "outputs": [
    {
     "name": "stdout",
     "output_type": "stream",
     "text": [
      "YGYFY@\n",
      "ygyfy\n"
     ]
    }
   ],
   "source": [
    "# 4. write aprogram to show a character and all convert into lower letter o from the email that provide from user\n",
    "# ex : input: kittu@gmsil.com\n",
    "#  output : kittugmailcom\n",
    "import re\n",
    "email = input()\n",
    "e = email.lower()    \n",
    "b =  list ([val for val in e if val.isalnum()])\n",
    "result = \"\".join(b)\n",
    "print(result)"
   ]
  },
  {
   "cell_type": "code",
   "execution_count": null,
   "metadata": {},
   "outputs": [],
   "source": []
  }
 ],
 "metadata": {
  "kernelspec": {
   "display_name": "Python 3",
   "language": "python",
   "name": "python3"
  },
  "language_info": {
   "codemirror_mode": {
    "name": "ipython",
    "version": 3
   },
   "file_extension": ".py",
   "mimetype": "text/x-python",
   "name": "python",
   "nbconvert_exporter": "python",
   "pygments_lexer": "ipython3",
   "version": "3.7.4"
  }
 },
 "nbformat": 4,
 "nbformat_minor": 2
}
